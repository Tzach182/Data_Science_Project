{
 "cells": [
  {
   "cell_type": "code",
   "execution_count": 1,
   "id": "aa5e9116",
   "metadata": {},
   "outputs": [],
   "source": [
    "import requests\n",
    "from bs4 import BeautifulSoup\n",
    "import pandas as pd\n",
    "import time\n",
    "from dateutil.parser import parse\n",
    "import re\n",
    "import numpy as np"
   ]
  },
  {
   "cell_type": "code",
   "execution_count": 6,
   "id": "e9c3bec8",
   "metadata": {},
   "outputs": [],
   "source": [
    "#list for dataframe coloumns\n",
    "game_names=[]#v\n",
    "scores=[]#v\n",
    "developers=[]#v\n",
    "publishers=[]#v\n",
    "genres=[]#v\n",
    "ratings=[]#v \n",
    "user_score=[]#v\n",
    "num_crit_reviews=[]#v\n",
    "release_day=[]#v\n",
    "release_month=[]#v\n",
    "release_year=[]#v\n",
    "platforms=[]#v\n",
    "descriptions=[]#v\n",
    "dev_career_score=[]\n",
    "pub_career_score=[]\n",
    "num_pos_critic=[]#v\n",
    "num_mix_critic=[]#v\n",
    "num_neg_critic=[]#v"
   ]
  },
  {
   "cell_type": "code",
   "execution_count": 3,
   "id": "7d384d4f",
   "metadata": {},
   "outputs": [
    {
     "data": {
      "text/plain": [
       "<Response [200]>"
      ]
     },
     "execution_count": 3,
     "metadata": {},
     "output_type": "execute_result"
    }
   ],
   "source": [
    "test_url = \"https://www.metacritic.com/browse/games/score/metascore/all/all/filtered\"\n",
    "userAgent={'User-agent':'Mozilla/5.0'}\n",
    "base_url=\"https://www.metacritic.com\"\n",
    "\n",
    "response = requests.get(test_url,headers=userAgent)\n",
    "response"
   ]
  },
  {
   "cell_type": "code",
   "execution_count": null,
   "id": "54a7e56c",
   "metadata": {},
   "outputs": [],
   "source": [
    "soup = BeautifulSoup(response.content, 'html.parser')\n",
    "print(soup.prettify())"
   ]
  },
  {
   "cell_type": "code",
   "execution_count": null,
   "id": "0d6e1a80",
   "metadata": {},
   "outputs": [],
   "source": [
    "rows = soup.findAll('tr')\n",
    "rows"
   ]
  },
  {
   "cell_type": "code",
   "execution_count": null,
   "id": "9c06df4b",
   "metadata": {},
   "outputs": [],
   "source": [
    "for row in rows:\n",
    "    for hrefs in row.findAll('a',{\"class\":\"title\"}):\n",
    "        print(hrefs)\n"
   ]
  },
  {
   "cell_type": "code",
   "execution_count": null,
   "id": "3a0b4e76",
   "metadata": {},
   "outputs": [],
   "source": [
    "url_game=base_url+\"/game/xbox-series-x/lego-star-wars-the-skywalker-saga\"\n",
    "response = requests.get(url_game,headers=userAgent)\n",
    "response\n"
   ]
  },
  {
   "cell_type": "code",
   "execution_count": null,
   "id": "1fda3126",
   "metadata": {},
   "outputs": [],
   "source": [
    "soup_game = BeautifulSoup(response.content, 'html.parser')"
   ]
  },
  {
   "cell_type": "code",
   "execution_count": null,
   "id": "401e14f7",
   "metadata": {},
   "outputs": [],
   "source": [
    "print(soup_game.prettify())"
   ]
  },
  {
   "cell_type": "code",
   "execution_count": null,
   "id": "04529aff",
   "metadata": {},
   "outputs": [],
   "source": [
    "#another option for game name\n",
    "#soup_att=soup_game(\"div\",attrs={\"class\":\"product_title\"})[0].a.get_text().strip()\n",
    "#soup_att"
   ]
  },
  {
   "cell_type": "code",
   "execution_count": null,
   "id": "b2785522",
   "metadata": {},
   "outputs": [],
   "source": [
    "#game name\n",
    "soup_game.find(\"a\",{\"class\":\"hover_none\"}).get_text().strip()"
   ]
  },
  {
   "cell_type": "code",
   "execution_count": null,
   "id": "3c88a465",
   "metadata": {},
   "outputs": [],
   "source": [
    "#critic score\n",
    "int(soup_game.find(\"span\",{\"itemprop\":\"ratingValue\"}).get_text().strip())"
   ]
  },
  {
   "cell_type": "code",
   "execution_count": null,
   "id": "0dcecd98",
   "metadata": {},
   "outputs": [],
   "source": [
    "#user score\n",
    "\n",
    "#regex = re.compile(r'^metascore_w user large game')\n",
    "#('td', {'class':['cell_ab team-home', 'cell_ab team-home  bold ']})\n",
    "soup_game.find(\"div\",{\"class\":re.compile(r'^metascore_w user large game')}).get_text().strip()\n",
    "#float(soup_game.find(\"div\",{\"class\":\"metascore_w user\"}).get_text().strip())"
   ]
  },
  {
   "cell_type": "code",
   "execution_count": null,
   "id": "883d9354",
   "metadata": {},
   "outputs": [],
   "source": [
    "#developer\n",
    "#soup_game(\"li\",attrs={\"class\":\"summary_detail developer\"})[0].a.get_text().strip()\n",
    "developer_list=[]\n",
    "dev_lis=soup_game(\"li\",attrs={\"class\":\"summary_detail developer\"})\n",
    "dev_lis_lis=dev_lis[0].find(\"a\").get_text().strip()\n",
    "dev_lis_lis\n",
    "\n",
    "#for devs in dev_lis_lis:\n",
    "#    developer_list.append(devs.get_text().strip())\n",
    "#     print(devs.get_text().strip())\n",
    "# developer_list"
   ]
  },
  {
   "cell_type": "code",
   "execution_count": null,
   "id": "1ca6a311",
   "metadata": {},
   "outputs": [],
   "source": [
    "#publisher\n",
    "#soup_game(\"li\",attrs={\"class\":\"summary_detail publisher\"})[0].a.get_text().strip()\n",
    "publisher_list=[]\n",
    "pub_lis=soup_game(\"li\",attrs={\"class\":\"summary_detail publisher\"})\n",
    "pub_lis_lis=pub_lis[0].find_all(\"a\")\n",
    "for pubs in pub_lis_lis:\n",
    "    publisher_list.append(pubs.get_text().strip())\n",
    "    print(pubs.get_text().strip())\n",
    "publisher_list"
   ]
  },
  {
   "cell_type": "markdown",
   "id": "2787e389",
   "metadata": {},
   "source": [
    "genres"
   ]
  },
  {
   "cell_type": "code",
   "execution_count": null,
   "id": "7ef755f7",
   "metadata": {},
   "outputs": [],
   "source": [
    "#genres\n",
    "genre_div=soup_game(\"li\",attrs={\"class\":\"summary_detail product_genre\"})\n",
    "genre_div"
   ]
  },
  {
   "cell_type": "code",
   "execution_count": null,
   "id": "ab5d1662",
   "metadata": {},
   "outputs": [],
   "source": [
    "genres_divs=genre_div[0].find_all(\"span\",attrs={\"class\":\"data\"})"
   ]
  },
  {
   "cell_type": "code",
   "execution_count": null,
   "id": "0a047a15",
   "metadata": {},
   "outputs": [],
   "source": [
    "genre_div=soup_game(\"li\",attrs={\"class\":\"summary_detail product_genre\"})\n",
    "genres_divs=genre_div[0].find_all(\"span\",attrs={\"class\":\"data\"})\n",
    "genres_list=[]\n",
    "for genre in genres_divs:\n",
    "    genres_list.append(genre.get_text().strip())\n",
    "    print(genre.get_text().strip())\n",
    "    \n",
    "print(genres_list)"
   ]
  },
  {
   "cell_type": "markdown",
   "id": "75e91f59",
   "metadata": {},
   "source": [
    "rating"
   ]
  },
  {
   "cell_type": "code",
   "execution_count": null,
   "id": "8a96fa60",
   "metadata": {},
   "outputs": [],
   "source": [
    "#rating\n",
    "if(soup_game.find(\"li\",attrs={\"class\":\"summary_detail product_rating\"})!=None):\n",
    "    rating=soup_game.find(\"li\",attrs={\"class\":\"summary_detail product_rating\"})\n",
    "    rating.find(\"span\",attrs={\"class\":\"data\"}).get_text().strip()\n",
    "else:\n",
    "    print(None)\n",
    "#rating.find(\"span\",attrs={\"class\":\"data\"}).get_text().strip()"
   ]
  },
  {
   "cell_type": "code",
   "execution_count": null,
   "id": "eb2cce1d",
   "metadata": {},
   "outputs": [],
   "source": []
  },
  {
   "cell_type": "markdown",
   "id": "5bb3b770",
   "metadata": {},
   "source": [
    "number of critic reviews"
   ]
  },
  {
   "cell_type": "code",
   "execution_count": null,
   "id": "a20c71b2",
   "metadata": {},
   "outputs": [],
   "source": []
  },
  {
   "cell_type": "code",
   "execution_count": null,
   "id": "02d372e2",
   "metadata": {},
   "outputs": [],
   "source": [
    "\n"
   ]
  },
  {
   "cell_type": "code",
   "execution_count": null,
   "id": "d4051670",
   "metadata": {},
   "outputs": [],
   "source": [
    "game_scores_dis=soup_game(\"div\",attrs={\"class\":\"module reviews_module critic_reviews_module\"})[0]\n",
    "game_list=game_scores_dis.find_all(\"span\",attrs={\"class\":\"count\"})\n",
    "sum_crit=0\n",
    "print(\"positive: \",int(game_list[0].get_text().strip()))\n",
    "print(\"mixed: \",int(game_list[1].get_text().strip()))\n",
    "print(\"negative: \",int(game_list[2].get_text().strip()))\n",
    "for spans in game_list:\n",
    "    sum_crit=int(spans.get_text().strip())+sum_crit\n",
    "print(sum_crit)"
   ]
  },
  {
   "cell_type": "code",
   "execution_count": null,
   "id": "b72a6985",
   "metadata": {},
   "outputs": [],
   "source": [
    "releas=soup_game(\"li\",attrs={\"class\":\"summary_detail release_data\"})[0]\n",
    "releas"
   ]
  },
  {
   "cell_type": "code",
   "execution_count": null,
   "id": "f793e873",
   "metadata": {},
   "outputs": [],
   "source": [
    "releas=soup_game(\"li\",attrs={\"class\":\"summary_detail release_data\"})[0]\n",
    "date=releas.find(\"span\",attrs={\"class\":\"data\"}).get_text().strip()\n",
    "dt=parse(date)\n",
    "dt=dt.strftime('%Y-%m-%d')\n",
    "dt=dt.split(sep='-')\n",
    "year=int(dt[0])\n",
    "month=int(dt[1])\n",
    "day=int(dt[2])"
   ]
  },
  {
   "cell_type": "code",
   "execution_count": null,
   "id": "f29b4091",
   "metadata": {},
   "outputs": [],
   "source": [
    "dt=parse(date)"
   ]
  },
  {
   "cell_type": "code",
   "execution_count": null,
   "id": "a494cfee",
   "metadata": {},
   "outputs": [],
   "source": [
    "print(dt.strftime('%Y-%m-%d'))\n",
    "dt=dt.strftime('%Y-%m-%d')\n",
    "dt=dt.split(sep='-')\n",
    "year=int(dt[0])\n",
    "month=int(dt[1])\n",
    "day=int(dt[2])\n",
    "print(day,month,year)\n",
    "\n"
   ]
  },
  {
   "cell_type": "code",
   "execution_count": null,
   "id": "e803a20f",
   "metadata": {},
   "outputs": [],
   "source": []
  },
  {
   "cell_type": "code",
   "execution_count": null,
   "id": "452cd4c5",
   "metadata": {},
   "outputs": [],
   "source": [
    "#platform\n",
    "soup_game.find(\"span\",{\"class\":\"platform\"}).get_text().strip()"
   ]
  },
  {
   "cell_type": "code",
   "execution_count": null,
   "id": "e2a1f168",
   "metadata": {},
   "outputs": [],
   "source": [
    "url_game=base_url+\"/game/pc/postal-iii\"\n",
    "response = requests.get(url_game,headers=userAgent)\n",
    "soup_game = BeautifulSoup(response.content, 'html.parser')\n",
    "response"
   ]
  },
  {
   "cell_type": "code",
   "execution_count": null,
   "id": "766bdadd",
   "metadata": {},
   "outputs": [],
   "source": [
    "soup_game.find(\"span\",{\"class\":\"platform\"}).get_text().strip()"
   ]
  },
  {
   "cell_type": "code",
   "execution_count": null,
   "id": "63fd26ab",
   "metadata": {},
   "outputs": [],
   "source": [
    "souplist=[base_url+\"/game/pc/postal-iii\",base_url+\"/game/wii-u/human-resource-machine\",\n",
    "          base_url+\"/game/playstation/tony-hawks-pro-skater-2\",base_url+\"/game/xbox-series-x/lego-star-wars-the-skywalker-saga\",\n",
    "         base_url+\"/game/playstation-4/blood-bowl-2\",base_url+\"/game/playstation-2/arc-the-lad-twilight-of-the-spirits\",\n",
    "          base_url+\"/game/nintendo-64/the-legend-of-zelda-ocarina-of-time\",base_url+\"/game/playstation-3/street-fighter-iv\",\n",
    "         base_url+\"/game/playstation-2/gravity-games-bike-street-vert-dirt\",base_url+\"/game/wii-u/family-party-30-great-games-obstacle-arcade\"]\n",
    "souplist"
   ]
  },
  {
   "cell_type": "code",
   "execution_count": null,
   "id": "b85db0e5",
   "metadata": {},
   "outputs": [],
   "source": [
    "#description\n",
    "desc=soup_game(\"li\",attrs={\"class\":\"summary_detail product_summary\"})[0]\n",
    "if(desc.find(\"span\",attrs={\"class\":\"blurb blurb_expanded\"})==None):\n",
    "    descr=desc.find(\"span\",attrs={\"class\":\"data\"}).get_text().strip()\n",
    "else:\n",
    "    descr=desc.find(\"span\",attrs={\"class\":\"blurb blurb_expanded\"}).get_text().strip()\n",
    "    \n",
    "\n",
    "\n",
    "\n",
    "descr   \n",
    "#descr=desc.find(\"span\",attrs={\"class\":\"data\"}).get_text().strip()\n",
    "#print(descr)"
   ]
  },
  {
   "cell_type": "code",
   "execution_count": null,
   "id": "eb8508fa",
   "metadata": {},
   "outputs": [],
   "source": [
    "domain=\"https://www.metacritic.com/\"\n",
    "for soups in souplist:\n",
    "    print(soups)\n",
    "    response = requests.get(soups,headers=userAgent)\n",
    "    soup_game = BeautifulSoup(response.content, 'html.parser')\n",
    "    #**************#\n",
    "    \n",
    "    #game name\n",
    "    game_names.append(soup_game.find(\"a\",{\"class\":\"hover_none\"}).get_text().strip())\n",
    "    #**************#\n",
    "    \n",
    "    #game score\n",
    "    scores.append(int(soup_game.find(\"span\",{\"itemprop\":\"ratingValue\"}).get_text().strip()))\n",
    "    #**************#\n",
    "    \n",
    "    #list of genres\n",
    "    genres_list=[]#the list of stripped down genres\n",
    "    #finding the right tag\n",
    "    genre_li=soup_game(\"li\",attrs={\"class\":\"summary_detail product_genre\"})\n",
    "    #receiving a list of all the genres\n",
    "    gen_list=genre_li[0].find_all(\"span\",attrs={\"class\":\"data\"})\n",
    "    for genre in gen_list:\n",
    "        genres_list.append(genre.get_text().strip())#stripping names and adding them to list\n",
    "    genres.append(genres_list)\n",
    "    #**************#\n",
    "    \n",
    "    #rating\n",
    "    #checking if rating exists, not all game get ratings - usually hyper violent games\n",
    "    if(soup_game.find(\"li\",attrs={\"class\":\"summary_detail product_rating\"})!=None):\n",
    "        rating=soup_game.find(\"li\",attrs={\"class\":\"summary_detail product_rating\"})\n",
    "        ratings.append(rating.find(\"span\",attrs={\"class\":\"data\"}).get_text().strip())\n",
    "    else:\n",
    "        ratings.append(np.nan)\n",
    "    #**************#\n",
    "    \n",
    "    #user score\n",
    "    user_score.append(float(soup_game.find(\"div\",{\"class\":re.compile(r'^metascore_w user large game')}).get_text().strip()))\n",
    "    #**************#\n",
    "    \n",
    "    #number of reviews\n",
    "    #reviews divided by positive,mixed and negative\n",
    "    game_scores_div=soup_game(\"div\",attrs={\"class\":\"module reviews_module critic_reviews_module\"})[0]\n",
    "    score_list=game_scores_div.find_all(\"span\",attrs={\"class\":\"count\"})\n",
    "    sum_crit=0\n",
    "    num_pos_critic.append(int(score_list[0].get_text().strip()))\n",
    "    num_mix_critic.append(int(score_list[1].get_text().strip()))\n",
    "    num_neg_critic.append(int(score_list[2].get_text().strip()))\n",
    "    for spans in score_list:\n",
    "        sum_crit=int(spans.get_text().strip())+sum_crit\n",
    "    num_crit_reviews.append(sum_crit)\n",
    "    #**************#\n",
    "    \n",
    "    #release date divide by day, month, year\n",
    "    releas=soup_game(\"li\",attrs={\"class\":\"summary_detail release_data\"})[0]\n",
    "    date=releas.find(\"span\",attrs={\"class\":\"data\"}).get_text().strip()\n",
    "    dt=parse(date) #a function able to return a date from a string\n",
    "    dt=dt.strftime('%Y-%m-%d') #a function able to return a date by format\n",
    "    dt=dt.split(sep='-') #seperating the date\n",
    "#     release_day.append(int(dt[2]))\n",
    "    release_month.append(int(dt[1]))\n",
    "    release_year.append(int(dt[0]))\n",
    "    #**************#\n",
    "    \n",
    "    #platforms\n",
    "    platforms.append(soup_game.find(\"span\",{\"class\":\"platform\"}).get_text().strip())\n",
    "    #**************#\n",
    "    \n",
    "    #game description\n",
    "    desc=soup_game(\"li\",attrs={\"class\":\"summary_detail product_summary\"})[0]\n",
    "    #in some pages the summary is too long so they separate it to collapsed and expanded\n",
    "    if(desc.find(\"span\",attrs={\"class\":\"blurb blurb_expanded\"})==None):\n",
    "        descr=desc.find(\"span\",attrs={\"class\":\"data\"}).get_text().strip()\n",
    "    else:\n",
    "        descr=desc.find(\"span\",attrs={\"class\":\"blurb blurb_expanded\"}).get_text().strip()\n",
    "    descriptions.append(descr)\n",
    "    #**************#\n",
    "    \n",
    "    #publisher\n",
    "    #publisher career score\n",
    "    pub_li=soup_game(\"li\",attrs={\"class\":\"summary_detail publisher\"})#finding the right tag\n",
    "    #finding first developer\n",
    "    publisher_temp=pub_li[0].find(\"a\").get_text().strip()\n",
    "    publishers.append(publisher_temp)\n",
    "    pub_url=pub_li[0].find(\"a\")['href']\n",
    "    pub_domain=domain+pub_url\n",
    "    response=requests.get(pub_domain,headers=userAgent)\n",
    "    soup_pub = BeautifulSoup(response.content, 'html.parser')\n",
    "    pub_career_temp=int(soup_pub.find(\"span\",{\"class\":re.compile(r'^data textscore textscore_')}).get_text().strip())\n",
    "    pub_career_score.append(pub_career_temp)\n",
    "    #**************#\n",
    "    \n",
    "    #developer\n",
    "    #developer career score\n",
    "    #finding the right tag\n",
    "    dev_li=soup_game(\"li\",attrs={\"class\":\"summary_detail developer\"})\n",
    "    #receiving a list of all the developers\n",
    "    developer_temp=dev_li[0].find(\"a\").get_text().strip()        \n",
    "    developers.append(developer_temp)\n",
    "    if(developer_temp!=publisher_temp):\n",
    "        dev_url=dev_li[0].find(\"a\")['href']\n",
    "        dev_domain=domain+dev_url\n",
    "        response=requests.get(dev_domain,headers=userAgent)\n",
    "        soup_dev = BeautifulSoup(response.content, 'html.parser')\n",
    "        dev_career_score.append(int(soup_dev.find(\"span\",{\"class\":re.compile(r'^data textscore textscore_')}).get_text().strip()))\n",
    "    else:\n",
    "        dev_career_score.append(pub_career_temp)\n",
    "    #**************#\n",
    "    time.sleep(2)\n",
    "    "
   ]
  },
  {
   "cell_type": "code",
   "execution_count": null,
   "id": "64d5f1f3",
   "metadata": {},
   "outputs": [],
   "source": [
    "df=pd.DataFrame({'game_name': game_names, 'score': scores,'user_score': user_score,'platform': platforms,\n",
    "                 'developer': developers,\"developer_score\":dev_career_score, 'publisher': publishers,\"publisher_score\":pub_career_score,'rating': ratings,\n",
    "                 'release_month': release_month,'release_year': release_year,'num_crit_review': num_crit_reviews,\n",
    "                 'num_pos_critic': num_pos_critic,'num_mix_critic': num_mix_critic,'num_neg_critic': num_neg_critic,\n",
    "                 'genres':genres,'descriptions': descriptions})"
   ]
  },
  {
   "cell_type": "code",
   "execution_count": null,
   "id": "5dfbbef7",
   "metadata": {},
   "outputs": [],
   "source": [
    "df"
   ]
  },
  {
   "cell_type": "code",
   "execution_count": null,
   "id": "3fb910c4",
   "metadata": {},
   "outputs": [],
   "source": [
    "df.to_csv(\"try.csv\")"
   ]
  },
  {
   "cell_type": "code",
   "execution_count": null,
   "id": "2614947d",
   "metadata": {},
   "outputs": [],
   "source": [
    "df2=pd.read_csv(\"try.csv\")\n",
    "df2"
   ]
  },
  {
   "cell_type": "code",
   "execution_count": null,
   "id": "ea127e7c",
   "metadata": {},
   "outputs": [],
   "source": [
    "url_page\n",
    "url_game\n",
    "url_dev\n",
    "url_pub\n",
    "soup_page\n",
    "soup_game\n",
    "soup_dev\n",
    "soup_pub"
   ]
  },
  {
   "cell_type": "code",
   "execution_count": null,
   "id": "a2e7ec35",
   "metadata": {},
   "outputs": [],
   "source": [
    "domain=\"https://www.metacritic.com/\"\n",
    "soup=domain+\"/game/nintendo-64/the-legend-of-zelda-ocarina-of-time\"\n",
    "response = requests.get(soup,headers=userAgent)\n",
    "soup_game = BeautifulSoup(response.content, 'html.parser')\n",
    "pub_li=soup_game(\"li\",attrs={\"class\":\"summary_detail publisher\"})"
   ]
  },
  {
   "cell_type": "code",
   "execution_count": null,
   "id": "c13413c4",
   "metadata": {},
   "outputs": [],
   "source": [
    "pub_url=pub_li[0].find(\"a\")['href']"
   ]
  },
  {
   "cell_type": "code",
   "execution_count": null,
   "id": "8abcf865",
   "metadata": {},
   "outputs": [],
   "source": [
    "pub_domain=domain+pub_url\n",
    "response=requests.get(pub_domain,headers=userAgent)\n",
    "soup_pub = BeautifulSoup(response.content, 'html.parser')\n",
    "soup_pub\n",
    "int(soup_pub.find(\"span\",{\"class\":re.compile(r'^data textscore textscore_')}).get_text().strip())"
   ]
  },
  {
   "cell_type": "code",
   "execution_count": null,
   "id": "5a050bd7",
   "metadata": {},
   "outputs": [],
   "source": [
    "int(soup_pub.find(\"span\",{\"class\":re.compile(r'^data textscore textscore_')}).get_text().strip())"
   ]
  },
  {
   "cell_type": "code",
   "execution_count": null,
   "id": "28758448",
   "metadata": {},
   "outputs": [],
   "source": [
    "domain=\"https://www.metacritic.com\"\n",
    "soup=domain+\"/game/xbox-series-x/lego-star-wars-the-skywalker-saga\"\n",
    "\n",
    "soup"
   ]
  },
  {
   "cell_type": "code",
   "execution_count": null,
   "id": "af5a0e80",
   "metadata": {},
   "outputs": [],
   "source": [
    "response = requests.get(soup,headers=userAgent)\n",
    "soup_game = BeautifulSoup(response.content, 'html.parser')"
   ]
  },
  {
   "cell_type": "code",
   "execution_count": null,
   "id": "075082f3",
   "metadata": {},
   "outputs": [],
   "source": [
    "dev_li=soup_game(\"li\",attrs={\"class\":\"summary_detail developer\"})\n",
    "print(dev_li)\n",
    "dev_url=dev_li[0].find(\"a\")['href']\n",
    "dev_url\n"
   ]
  },
  {
   "cell_type": "code",
   "execution_count": null,
   "id": "f0d2bb37",
   "metadata": {},
   "outputs": [],
   "source": [
    "dev_url=dev_li[0].find(\"a\")['href']\n",
    "dev_domain=domain+dev_url\n",
    "response=requests.get(dev_domain,headers=userAgent)\n",
    "soup_dev = BeautifulSoup(response.content, 'html.parser')\n",
    "soup_dev\n",
    "int(soup_dev.find(\"span\",{\"class\":re.compile(r'^data textscore textscore_')}).get_text().strip())"
   ]
  },
  {
   "cell_type": "code",
   "execution_count": null,
   "id": "13dd79ac",
   "metadata": {},
   "outputs": [],
   "source": [
    "#https://www.metacritic.com/browse/games/score/metascore/all/all/filtered\n",
    "base_"
   ]
  },
  {
   "cell_type": "code",
   "execution_count": null,
   "id": "f7f40823",
   "metadata": {},
   "outputs": [],
   "source": []
  },
  {
   "cell_type": "code",
   "execution_count": null,
   "id": "de2a0bcb",
   "metadata": {},
   "outputs": [],
   "source": [
    "#https://www.metacritic.com/browse/games/score/metascore/all/all/filtered?page=\n",
    "page='https://www.metacritic.com/browse/games/score/metascore/all/all/filtered?page='\n",
    "page+str(page1)"
   ]
  },
  {
   "cell_type": "code",
   "execution_count": null,
   "id": "5a2c8ceb",
   "metadata": {},
   "outputs": [],
   "source": [
    "base_url='https://www.metacritic.com'\n",
    "url_page=base_url+'/browse/games/score/metascore/all/all/filtered?page='\n",
    "response=requests.get(url_page,headers=userAgent)\n",
    "soup_page = BeautifulSoup(response.content, 'html.parser')\n",
    "url_game_list=soup_page.find_all('a',attrs={'class':'title'})\n"
   ]
  },
  {
   "cell_type": "code",
   "execution_count": null,
   "id": "f40dd70e",
   "metadata": {},
   "outputs": [],
   "source": [
    "url_game_list"
   ]
  },
  {
   "cell_type": "code",
   "execution_count": null,
   "id": "f7fe2a77",
   "metadata": {},
   "outputs": [],
   "source": [
    "for game in url_game_list:\n",
    "    game_url=base_url+game['href']\n",
    "    print(game_url)\n"
   ]
  },
  {
   "cell_type": "code",
   "execution_count": null,
   "id": "aefd3ee6",
   "metadata": {},
   "outputs": [],
   "source": [
    "base_url='https://www.metacritic.com'\n",
    "url_page=base_url+'/browse/games/score/metascore/all/all/filtered?page='+str(0)\n",
    "response=requests.get(url_page,headers=userAgent)\n",
    "soup_page = BeautifulSoup(response.content, 'html.parser')\n",
    "counter=0\n",
    "url_game_list=soup_page.find_all('a',attrs={'class':'title'})\n",
    "for game in url_game_list:\n",
    "    game_url=base_url+game['href']\n",
    "    print(game_url)\n",
    "    response = requests.get(game_url,headers=userAgent)\n",
    "    soup_game = BeautifulSoup(response.content, 'html.parser')\n",
    "    #**************#\n",
    "    \n",
    "    #game name\n",
    "    game_names.append(soup_game.find(\"a\",{\"class\":\"hover_none\"}).get_text().strip())\n",
    "    #**************#\n",
    "    \n",
    "    #game score\n",
    "    scores.append(int(soup_game.find(\"span\",{\"itemprop\":\"ratingValue\"}).get_text().strip()))\n",
    "    #**************#\n",
    "    \n",
    "    #list of genres\n",
    "    genres_list=[]#the list of stripped down genres\n",
    "    #finding the right tag\n",
    "    genre_li=soup_game(\"li\",attrs={\"class\":\"summary_detail product_genre\"})\n",
    "    #receiving a list of all the genres\n",
    "    gen_list=genre_li[0].find_all(\"span\",attrs={\"class\":\"data\"})\n",
    "    for genre in gen_list:\n",
    "        genres_list.append(genre.get_text().strip())#stripping names and adding them to list\n",
    "    genres.append(list(dict.fromkeys(genres_list)))\n",
    "    #**************#\n",
    "    \n",
    "    #rating\n",
    "    #checking if rating exists, not all game get ratings - usually hyper violent games\n",
    "    if(soup_game.find(\"li\",attrs={\"class\":\"summary_detail product_rating\"})!=None):\n",
    "        rating=soup_game.find(\"li\",attrs={\"class\":\"summary_detail product_rating\"})\n",
    "        ratings.append(rating.find(\"span\",attrs={\"class\":\"data\"}).get_text().strip())\n",
    "    else:\n",
    "        ratings.append(np.nan)\n",
    "    #**************#\n",
    "    \n",
    "    #user score\n",
    "    user_score.append(float(soup_game.find(\"div\",{\"class\":re.compile(r'^metascore_w user large game')}).get_text().strip()))\n",
    "    #**************#\n",
    "    \n",
    "    #number of reviews\n",
    "    #reviews divided by positive,mixed and negative\n",
    "    game_scores_div=soup_game(\"div\",attrs={\"class\":\"module reviews_module critic_reviews_module\"})[0]\n",
    "    score_list=game_scores_div.find_all(\"span\",attrs={\"class\":\"count\"})\n",
    "    sum_crit=0\n",
    "    num_pos_critic.append(int(score_list[0].get_text().strip()))\n",
    "    num_mix_critic.append(int(score_list[1].get_text().strip()))\n",
    "    num_neg_critic.append(int(score_list[2].get_text().strip()))\n",
    "    for spans in score_list:\n",
    "        sum_crit=int(spans.get_text().strip())+sum_crit\n",
    "    num_crit_reviews.append(sum_crit)\n",
    "    #**************#\n",
    "    \n",
    "    #release date divide by day, month, year\n",
    "    releas=soup_game(\"li\",attrs={\"class\":\"summary_detail release_data\"})[0]\n",
    "    date=releas.find(\"span\",attrs={\"class\":\"data\"}).get_text().strip()\n",
    "    dt=parse(date) #a function able to return a date from a string\n",
    "    dt=dt.strftime('%Y-%m-%d') #a function able to return a date by format\n",
    "    dt=dt.split(sep='-') #seperating the date\n",
    "    release_month.append(int(dt[1]))\n",
    "    release_year.append(int(dt[0]))\n",
    "    #**************#\n",
    "    \n",
    "    #platforms\n",
    "    platforms.append(soup_game.find(\"span\",{\"class\":\"platform\"}).get_text().strip())\n",
    "    #**************#\n",
    "    \n",
    "    #game description\n",
    "    desc=soup_game(\"li\",attrs={\"class\":\"summary_detail product_summary\"})[0]\n",
    "    #in some pages the summary is too long so they separate it to collapsed and expanded\n",
    "    if(desc.find(\"span\",attrs={\"class\":\"blurb blurb_expanded\"})==None):\n",
    "        descr=desc.find(\"span\",attrs={\"class\":\"data\"}).get_text().strip()\n",
    "    else:\n",
    "        descr=desc.find(\"span\",attrs={\"class\":\"blurb blurb_expanded\"}).get_text().strip()\n",
    "    descriptions.append(descr)\n",
    "    #**************#\n",
    "    \n",
    "    #publisher\n",
    "    #publisher career score\n",
    "    pub_li=soup_game(\"li\",attrs={\"class\":\"summary_detail publisher\"})#finding the right tag\n",
    "    #finding first developer\n",
    "    publisher_temp=pub_li[0].find(\"a\").get_text().strip()\n",
    "    publishers.append(publisher_temp)\n",
    "    pub_url=pub_li[0].find(\"a\")['href']\n",
    "    pub_domain=base_url+pub_url\n",
    "    response=requests.get(pub_domain,headers=userAgent)\n",
    "    soup_pub = BeautifulSoup(response.content, 'html.parser')\n",
    "    pub_career_temp=int(soup_pub.find(\"span\",{\"class\":re.compile(r'^data textscore textscore_')}).get_text().strip())\n",
    "    pub_career_score.append(pub_career_temp)\n",
    "    #**************#\n",
    "    \n",
    "    #developer\n",
    "    #developer career score\n",
    "    #finding the right tag\n",
    "    dev_li=soup_game(\"li\",attrs={\"class\":\"summary_detail developer\"})\n",
    "    #receiving a list of all the developers\n",
    "    developer_temp=dev_li[0].find(\"a\").get_text().strip()        \n",
    "    developers.append(developer_temp)\n",
    "    if(developer_temp!=publisher_temp):\n",
    "        dev_url=dev_li[0].find(\"a\")['href']\n",
    "        dev_domain=base_url+dev_url\n",
    "        response=requests.get(dev_domain,headers=userAgent)\n",
    "        soup_dev = BeautifulSoup(response.content, 'html.parser')\n",
    "        dev_career_score.append(int(soup_dev.find(\"span\",{\"class\":re.compile(r'^data textscore textscore_')}).get_text().strip()))\n",
    "    else:\n",
    "        dev_career_score.append(pub_career_temp)\n",
    "    #**************#\n",
    "    time.sleep(2)\n",
    "    counter=counter+1\n",
    "    if(counter>10):\n",
    "        break;\n",
    "    \n"
   ]
  },
  {
   "cell_type": "code",
   "execution_count": null,
   "id": "c1eddcac",
   "metadata": {},
   "outputs": [],
   "source": [
    "df=pd.DataFrame({'game_name': game_names, 'score': scores,'user_score': user_score,'platform': platforms,\n",
    "                 'developer': developers,\"developer_score\":dev_career_score, 'publisher': publishers,\"publisher_score\":pub_career_score,'rating': ratings,\n",
    "                 'release_month': release_month,'release_year': release_year,'num_crit_review': num_crit_reviews,\n",
    "                 'num_pos_critic': num_pos_critic,'num_mix_critic': num_mix_critic,'num_neg_critic': num_neg_critic,\n",
    "                 'genres':genres,'descriptions': descriptions})"
   ]
  },
  {
   "cell_type": "code",
   "execution_count": null,
   "id": "fc1a59a6",
   "metadata": {},
   "outputs": [],
   "source": [
    "df"
   ]
  },
  {
   "cell_type": "code",
   "execution_count": null,
   "id": "b042155d",
   "metadata": {},
   "outputs": [],
   "source": [
    "df.describe()"
   ]
  },
  {
   "cell_type": "code",
   "execution_count": null,
   "id": "cdebbfba",
   "metadata": {},
   "outputs": [],
   "source": [
    "base_url='https://www.metacritic.com'\n",
    "for ind in range(3):\n",
    "    url_page=base_url+'/browse/games/score/metascore/all/all/filtered?page='+str(ind)\n",
    "    print(url_page)\n",
    "    response=requests.get(url_page,headers=userAgent)\n",
    "    soup_page = BeautifulSoup(response.content, 'html.parser')\n",
    "    url_game_list=soup_page.find_all('a',attrs={'class':'title'})\n",
    "    for game in url_game_list:\n",
    "        game_url=base_url+game['href']\n",
    "        print(game_url)"
   ]
  },
  {
   "cell_type": "code",
   "execution_count": null,
   "id": "6680338b",
   "metadata": {},
   "outputs": [],
   "source": [
    "url_now='https://www.metacritic.com/company/big-sugar-films'\n",
    "response=requests.get(url_now,headers=userAgent)\n",
    "soup_page = BeautifulSoup(response.content, 'html.parser')\n",
    "\n",
    "pub_career_temp=soup_page.find(\"span\",{\"class\":re.compile(r'^data textscore textscore_')}).get_text().strip()\n",
    "if(pub_career_temp == None or pub_career_temp == 'N/A' or pub_career_temp == 'tbd'):\n",
    "    pub_career_score.append(np.nan)\n",
    "else:\n",
    "    pub_career_score.append(int(pub_career_temp))\n",
    "#**************#\n",
    "\n",
    "#developer\n",
    "#developer career score\n",
    "if(soup_game.find(\"li\",{\"class\":\"summary_detail developer\"}) != None):\n",
    "    dev_li=soup_game(\"li\",attrs={\"class\":\"summary_detail developer\"}) #finding the right tag\n",
    "    developer_temp=dev_li[0].find(\"a\").get_text().strip()        \n",
    "    developers.append(developer_temp)\n",
    "else:\n",
    "    developer_temp = publisher_temp\n",
    "    developers.append(developer_temp)\n",
    "# appending the publisher score\n",
    "#checking if the publisher and developer aren't the same to save time\n",
    "if(developer_temp!=publisher_temp):\n",
    "    dev_url=dev_li[0].find(\"a\")['href']\n",
    "    dev_domain=base_url+dev_url\n",
    "    response=requests.get(dev_domain,headers=userAgent)\n",
    "    soup_dev = BeautifulSoup(response.content, 'html.parser')\n",
    "    dev_career_score.append(int(soup_dev.find(\"span\",{\"class\":re.compile(r'^data textscore textscore_')}).get_text().strip()))\n",
    "else:\n",
    "    dev_career_score.append(pub_career_temp)\n"
   ]
  },
  {
   "cell_type": "code",
   "execution_count": null,
   "id": "009113ed",
   "metadata": {},
   "outputs": [],
   "source": [
    "dev_career_score"
   ]
  },
  {
   "cell_type": "code",
   "execution_count": null,
   "id": "b57d20f1",
   "metadata": {},
   "outputs": [],
   "source": [
    "pub_career_score"
   ]
  },
  {
   "cell_type": "code",
   "execution_count": null,
   "id": "9def8670",
   "metadata": {},
   "outputs": [],
   "source": [
    "pub_career_temp"
   ]
  },
  {
   "cell_type": "code",
   "execution_count": 7,
   "id": "b4e5bdc7",
   "metadata": {},
   "outputs": [],
   "source": [
    "url_now='https://www.metacritic.com/game/playstation-4/valfaris'\n",
    "response=requests.get(url_now,headers=userAgent)\n",
    "soup_page = BeautifulSoup(response.content, 'html.parser')\n",
    "#publisher\n",
    "#publisher career score\n",
    "pub_li=soup_page(\"li\",attrs={\"class\":\"summary_detail publisher\"}) #finding the right tag\n",
    "#finding first publisher\n",
    "publisher_temp=pub_li[0].find(\"a\").get_text().strip()\n",
    "publishers.append(publisher_temp)\n",
    "\n",
    "# finding the publisher url\n",
    "pub_url=pub_li[0].find(\"a\")['href']\n",
    "pub_domain=base_url+pub_url\n",
    "response=requests.get(pub_domain,headers=userAgent)\n",
    "soup_pub = BeautifulSoup(response.content, 'html.parser')\n",
    "# appending the publisher score\n",
    "pub_career_temp=soup_pub.find(\"span\",{\"class\":re.compile(r'^data textscore textscore_')}).get_text().strip()\n",
    "if(pub_career_temp == None or pub_career_temp == 'N/A' or pub_career_temp == 'tbd'):\n",
    "    pub_career_score.append(np.nan)\n",
    "else:\n",
    "    pub_career_score.append(int(pub_career_temp))\n",
    "#**************#\n",
    "\n",
    "\n",
    "if(soup_page.find(\"li\",{\"class\":\"summary_detail developer\"}) != None):\n",
    "    dev_li=soup_page(\"li\",attrs={\"class\":\"summary_detail developer\"}) #finding the right tag\n",
    "    developer_temp=dev_li[0].find(\"a\").get_text().strip()        \n",
    "    developers.append(developer_temp)\n",
    "else:\n",
    "    developer_temp = publisher_temp\n",
    "    developers.append(developer_temp)\n",
    "# appending the publisher score\n",
    "#checking if the publisher and developer aren't the same to save time\n",
    "if(developer_temp!=publisher_temp):\n",
    "    dev_url=dev_li[0].find(\"a\")['href']\n",
    "    dev_domain=base_url+dev_url\n",
    "    response=requests.get(dev_domain,headers=userAgent)\n",
    "    soup_dev = BeautifulSoup(response.content, 'html.parser')\n",
    "    dev_career_score.append(int(soup_dev.find(\"span\",{\"class\":re.compile(r'^data textscore textscore_')}).get_text().strip()))\n",
    "else:\n",
    "    dev_career_score.append(pub_career_temp)\n",
    "#**************#"
   ]
  },
  {
   "cell_type": "code",
   "execution_count": 8,
   "id": "9c665de1",
   "metadata": {},
   "outputs": [
    {
     "name": "stdout",
     "output_type": "stream",
     "text": [
      "[81]\n",
      "['Steel Mantis']\n",
      "[nan]\n",
      "['Big Sugar Films']\n"
     ]
    }
   ],
   "source": [
    "print(dev_career_score)\n",
    "print(developers)\n",
    "print(pub_career_score)\n",
    "print(publishers)"
   ]
  },
  {
   "cell_type": "code",
   "execution_count": 13,
   "id": "30fa9fb4",
   "metadata": {},
   "outputs": [
    {
     "name": "stdout",
     "output_type": "stream",
     "text": [
      "[<li class=\"summary_detail product_genre\"><span class=\"label\">Genre(s): </span><span class=\"data\">Action Adventure</span>,                                            <span class=\"data\">Fantasy</span> </li>]\n"
     ]
    }
   ],
   "source": [
    "url_now='https://www.metacritic.com/game/nintendo-64/the-legend-of-zelda-ocarina-of-time'\n",
    "response=requests.get(url_now,headers=userAgent)\n",
    "soup_page = BeautifulSoup(response.content, 'html.parser')\n",
    "genres_list=[]#the list of stripped down genres\n",
    "#finding the right tag\n",
    "genre_li=soup_page.find_all(\"li\",attrs={\"class\":\"summary_detail product_genre\"})\n",
    "if(genre_li!=None):\n",
    "    #receiving a list of all the genres\n",
    "    print(genre_li)\n",
    "    gen_list=genre_li[0].find_all(\"span\",attrs={\"class\":\"data\"})\n",
    "    for genre in gen_list:\n",
    "        genres_list.append(genre.get_text().strip()) #stripping names and adding them to list\n",
    "    genres.append(list(dict.fromkeys(genres_list))) #removes duplicates inside genre list\n",
    "else:\n",
    "    genres.append(np.nan)"
   ]
  },
  {
   "cell_type": "code",
   "execution_count": 14,
   "id": "c90a27c4",
   "metadata": {},
   "outputs": [
    {
     "data": {
      "text/plain": [
       "<li class=\"summary_detail product_genre\"><span class=\"label\">Genre(s): </span><span class=\"data\">Action Adventure</span>,                                            <span class=\"data\">Fantasy</span> </li>"
      ]
     },
     "execution_count": 14,
     "metadata": {},
     "output_type": "execute_result"
    }
   ],
   "source": []
  },
  {
   "cell_type": "code",
   "execution_count": null,
   "id": "c5afb8d2",
   "metadata": {},
   "outputs": [],
   "source": []
  }
 ],
 "metadata": {
  "kernelspec": {
   "display_name": "Python 3 (ipykernel)",
   "language": "python",
   "name": "python3"
  },
  "language_info": {
   "codemirror_mode": {
    "name": "ipython",
    "version": 3
   },
   "file_extension": ".py",
   "mimetype": "text/x-python",
   "name": "python",
   "nbconvert_exporter": "python",
   "pygments_lexer": "ipython3",
   "version": "3.9.7"
  }
 },
 "nbformat": 4,
 "nbformat_minor": 5
}
